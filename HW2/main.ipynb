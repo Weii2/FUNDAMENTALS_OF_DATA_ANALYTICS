{
  "nbformat": 4,
  "nbformat_minor": 0,
  "metadata": {
    "kernelspec": {
      "display_name": "Python 3",
      "language": "python",
      "name": "python3"
    },
    "language_info": {
      "codemirror_mode": {
        "name": "ipython",
        "version": 3
      },
      "file_extension": ".py",
      "mimetype": "text/x-python",
      "name": "python",
      "nbconvert_exporter": "python",
      "pygments_lexer": "ipython3",
      "version": "3.8.5"
    },
    "colab": {
      "name": "main.ipynb",
      "provenance": []
    }
  },
  "cells": [
    {
      "cell_type": "markdown",
      "metadata": {
        "id": "MyrgWguecTEJ"
      },
      "source": [
        "# 作業 2\n",
        "\n",
        "本作業使用 [Kaggle Titanic](https://www.kaggle.com/c/titanic/overview) 所提供的資料，根據鐵達尼號乘客資料預測生還者。\n",
        "我們只使用 `train.csv` 進行生還者預測（只有 `train.csv` 才有答案），而加分題需要額外使用 `test.csv` 並提交至 [Kaggle Titanic](https://www.kaggle.com/c/titanic/overview) 進行評分。\n",
        "\n",
        "本作業需要先學習[程式教材](https://github.com/IKMLab/course_material)中的以下部份：\n",
        "\n",
        "- [jupyter-基本功能](https://github.com/IKMLab/course_material/blob/master/jupyter-%E5%9F%BA%E6%9C%AC%E5%8A%9F%E8%83%BD.ipynb)\n",
        "- [python-入門語法](https://github.com/IKMLab/course_material/blob/master/python-%E5%85%A5%E9%96%80%E8%AA%9E%E6%B3%95.ipynb)\n",
        "- [numpy-基本功能](https://github.com/IKMLab/course_material/blob/master/numpy-%E5%9F%BA%E6%9C%AC%E5%8A%9F%E8%83%BD.ipynb)\n",
        "- [pandas-基本功能](https://github.com/IKMLab/course_material/blob/master/pandas-%E5%9F%BA%E6%9C%AC%E5%8A%9F%E8%83%BD.ipynb)\n",
        "- [matplotlib-資料視覺化](https://github.com/IKMLab/course_material/blob/master/matplotlib-%E8%B3%87%E6%96%99%E8%A6%96%E8%A6%BA%E5%8C%96.ipynb)\n",
        "- [scikit-learn-基本功能](https://github.com/IKMLab/course_material/blob/master/scikit-learn-%E5%9F%BA%E6%9C%AC%E5%8A%9F%E8%83%BD.ipynb)"
      ]
    },
    {
      "cell_type": "markdown",
      "metadata": {
        "id": "-6xrqLA2cTEM"
      },
      "source": [
        "## 繳交規則\n",
        "\n",
        "1. 請將**當前資料夾**命名為 `FDA_HW2_你的學號`\n",
        "    - 例如：`FDA_HW2_F12345678`\n",
        "    - 所有**英文**都必須**大寫**\n",
        "    - 所有**文字**都必須在 **ASCII** 範圍\n",
        "2. 請將本檔案命名為 `main.ipynb`\n",
        "3. 請描述開發所需要的**環境**，包含：\n",
        "    - **作業系統**與**發行版本**\n",
        "        - 例如：Windows、Mac、Linux 等\n",
        "        - 需要填寫系統**名稱**與**版本**\n",
        "    - **程式執行環境**\n",
        "        - 例如：jupyter、kaggle kernel、colab 等\n",
        "        - 如果是 jupyter 請**填寫**版本\n",
        "        - 如果是雲端計算資源**不需填寫**版本\n",
        "        - 請**勿**使用**付費**資源，助教薪水**微薄**\n",
        "    - **python 版本**\n",
        "        - 例如：3.6.9\n",
        "        - 填寫**至少**能執行的版本即可\n",
        "    - **安裝環境**\n",
        "        - 例如使用 `pip`、`conda` 等\n",
        "        - 助教會以虛擬環境測試\n",
        "    - **安裝套件**與**版本**\n",
        "        - 請使用 `requirements.txt`\n",
        "        - 助教會以虛擬環境測試\n",
        "        - 請**不要**附上**多餘**的套件\n",
        "    - **計算資源**\n",
        "        - 使用 CPU **數量**\n",
        "        - GPU 版本\n",
        "    - **執行**所需花費**時間**\n",
        "        - 請**不要更改**擁有註解 `請勿更動此區塊程式碼` 的程式碼區塊\n",
        "4. 請**保留執行結果**讓助教可以直接觀看\n",
        "    - 請記得使用 **Save**\n",
        "    - **雲端**計算資源請**儲存**後**下載**檔案\n",
        "    - 所有程式區塊**必須依序執行**\n",
        "    - 請**不要**保留**多餘**的程式區塊\n",
        "5. 請**控制隨機亂數**讓實驗結果可以**重現**\n",
        "    - 關鍵字：**random seed**\n",
        "6. 請**不要**上傳**多餘**的檔案\n",
        "    - 不要上傳**資料**檔案，包含 `train.csv` 與 `test.csv` 等\n",
        "    - 不要上傳**隱藏**檔案，包含 `.git`、`.ipynb_checkpoints` 等\n",
        "    - 不要上傳**虛擬環境**\n",
        "7. 請附上**參考連結**\n",
        "    - 可以參考公開的 kernel\n",
        "    - 沒附上連結者視同**瓢竊**\n",
        "    - 使用的**演算法**請附上來源，並大致描述概念\n",
        "8. 請**壓縮**成 `zip` 並上傳至 [moodle](http://moodle.ncku.edu.tw/)\n",
        "    - 例如 `FDA_HW2_F12345678.zip`"
      ]
    },
    {
      "cell_type": "markdown",
      "metadata": {
        "id": "gnB7Gl3ScTEO"
      },
      "source": [
        "## 評分標準\n",
        "\n",
        "如果有參考其他作法卻沒有附上來源，則直接視為瓢竊，得分為 $-\\infty$。\n",
        "\n",
        "|規則|滿足規則得分|沒滿足規則失分|\n",
        "|-|-|-|\n",
        "|資料夾名稱符合繳交規則|0|-60|\n",
        "|檔案名稱符合繳交規則|0|-60|\n",
        "|填寫環境需求|0|-60|\n",
        "|填寫計算資源|0|-60|\n",
        "|提供 `requirements.txt`|0|-60|\n",
        "|將資料夾壓縮成 `zip`|0|-60|\n",
        "|不更改擁有註解 `請勿更動此區塊程式碼` 的程式碼區塊|0|-60|\n",
        "|計算並顯示執行時間|0|-60|\n",
        "|控制隨機亂數讓實驗結果可以重現|0|-60|\n",
        "|使用 `markdown` 區塊描述資料分析內容|+3|-10|\n",
        "|以資料視覺化輔助資料分析並以 `markdown` 區塊輔助描述圖中資訊|+7|-10|\n",
        "|選擇使用 `Sex` 與 `Age` 以外的特徵作為輸入並以 `markdown` 區塊描述方法與理由|+5|-10|\n",
        "|處理缺失值並以 `markdown` 區塊描述方法與理由|+5|-10|\n",
        "|轉換數值資料並以 `markdown` 區塊描述方法與理由|+5|-10|\n",
        "|轉換類別資料並以 `markdown` 區塊描述方法與理由|+5|-10|\n",
        "|使用其他方法進行資料前處理並以 `markdown` 區塊描述理由|+10|0|\n",
        "|使用決策樹以外的模型進行實驗|+10|-10|\n",
        "|使用 `markdown` 區塊簡單解釋模型演算法|+10|0|\n",
        "|解釋模型超參數的選擇理由|+5|-10|\n",
        "|使用 5-fold cross validation 輸出平均準確度|+5|-10|\n",
        "|使用所有資料訓練模型並輸出準確度|+5|-10|\n",
        "|使用多個不同模型進行實驗|+10|0|\n",
        "|使用 ensemble 進行實驗|+10|0|\n",
        "|試著讓其中一個實驗模型 overfitting（訓練與驗證準確度差距 > $10\\%$）|+9|0|\n",
        "|試著讓其中一個實驗模型 underfitting（訓練準確度約 $50\\% \\pm 10\\%$）|+1|0|\n",
        "|準確度超越課堂範例（$81\\%$）|+10|-10|\n",
        "|將最佳實驗結果套用到 `test.csv` 並截圖 Kaggle 評分|+10|0|\n",
        "|將最佳實驗結果套用到 `test.csv` 並取得 Kaggle Public Leaderboard Top $10\\%$|+20|0|\n",
        "|將最佳實驗結果套用到 `test.csv` 並取得 Kaggle Public Leaderboard Top $5\\%$|+30|0|\n",
        "|將最佳實驗結果套用到 `test.csv` 並取得 Kaggle Public Leaderboard Top $1\\%$|+50|0|"
      ]
    },
    {
      "cell_type": "markdown",
      "metadata": {
        "id": "WjfhGTy2cTEP"
      },
      "source": [
        "## 環境\n",
        "\n",
        "請填寫當前執行使用的環境。\n",
        "\n",
        "|環境|名稱|版本|\n",
        "|-|-|-|\n",
        "|作業系統|Ubuntu|18.04 LTS|\n",
        "|程式執行環境|colab||\n",
        "|python 版本|python3|3.6.9|\n",
        "|安裝環境|pip|20.0.2|"
      ]
    },
    {
      "cell_type": "markdown",
      "metadata": {
        "id": "0Sd_-RzqcTEQ"
      },
      "source": [
        "## 安裝\n",
        "\n",
        "請填寫安裝套件需要的指令\n",
        "\n",
        "```sh\n",
        "pip install -r requirements.txt\n",
        "```"
      ]
    },
    {
      "cell_type": "markdown",
      "metadata": {
        "id": "WgdUItv0cTER"
      },
      "source": [
        "## 計算資源\n",
        "\n",
        "請填寫執行程式所需要的計算資源，請確保所有資源限制在單一個人桌上型電腦且能夠以總市價低於 5 萬的手段取得。\n",
        "\n",
        "|計算資源|答案|\n",
        "|-|-|\n",
        "|使用 CPU 核心數|1|\n",
        "|記憶體需求|$\\leq 1$GB|\n",
        "|有無使用 GPU|無|\n",
        "|GPU 版本|無|\n",
        "|GPU 記憶體需求|$\\leq 1$GB|"
      ]
    },
    {
      "cell_type": "markdown",
      "metadata": {
        "id": "xFYky0vjcTER"
      },
      "source": [
        "## 參考連結\n",
        "\n",
        "- 有無參考他人之實驗結果：有\n",
        "- 參考連結：\n",
        "\n",
        "  https://www.kaggle.com/startupsci/titanic-data-science-solutions\n",
        " \n",
        " https://www.kaggle.com/ldfreeman3/a-data-science-framework-to-achieve-99-accuracy\n",
        "\n",
        " https://www.kaggle.com/konstantinmasich/titanic-0-82-0-83"
      ]
    },
    {
      "cell_type": "code",
      "metadata": {
        "id": "Ug33PhmzcTES"
      },
      "source": [
        "# 請勿更動此區塊程式碼\n",
        "\n",
        "import time\n",
        "import numpy as np\n",
        "import pandas as pd\n",
        "\n",
        "EXECUTION_START_TIME = time.time() # 計算執行時間\n",
        "\n",
        "df = pd.read_csv('train.csv')      # 讀取資料，請勿更改路徑"
      ],
      "execution_count": 1,
      "outputs": []
    },
    {
      "cell_type": "markdown",
      "metadata": {
        "id": "43G38VLYcTET"
      },
      "source": [
        "## 資料分析與前處理\n",
        "\n",
        "請在此區塊後使用**一個或多個區塊**進行資料分析與前處理，項目可以包含：\n",
        "\n",
        "- 資料視覺化\n",
        "- 相關係數\n",
        "- 決定輸入特徵\n",
        "- 處理缺失值\n",
        "- 轉換數值\n",
        "- 轉換類別\n",
        "- 其他\n",
        "\n",
        "請以 `markdown` 簡單描述**流程**、**方法**與**原因**：\n",
        "\n",
        "1. 觀察...，發現...\n",
        "2. 填補...，策略...\n",
        "3. 轉換...，原因..."
      ]
    },
    {
      "cell_type": "markdown",
      "metadata": {
        "id": "MKYRuSmscrAk"
      },
      "source": [
        "- **使用Markdown區塊描述資料分析內容**\n",
        "\n",
        "  train.csv有891筆資料\n",
        "\n",
        "  每筆資料有'PassengerId','Survived', 'Pclass', 'Name', 'Sex', 'Age', 'SibSp', 'Parch, 'Ticket'', 'Fare', 'Cabin', 'Embarked'這些columns\n",
        "  \n",
        "  age, cabin, embarked這三個columns有缺失資料 &nbsp; cabin缺失太多 以及 Ticket每個人都不一樣 所以不放入訓練資料\n",
        "\n",
        "  age與embarked會在下面的區塊提到以什麼方法填補"
      ]
    },
    {
      "cell_type": "code",
      "metadata": {
        "colab": {
          "base_uri": "https://localhost:8080/"
        },
        "id": "ua3Goi9BcTET",
        "outputId": "e16755c1-b595-4d73-b4a7-9a416081d127"
      },
      "source": [
        "import warnings\n",
        "warnings.filterwarnings('ignore')\n",
        "# 匯入 scikit-learn 模組\n",
        "# 在 python 中的介面名稱為 sklearn\n",
        "\n",
        "import sklearn\n",
        "\n",
        "# 處理資料時會用到的工具\n",
        "\n",
        "import numpy as np\n",
        "import pandas as pd\n",
        "import matplotlib.pyplot as plt\n",
        "import seaborn as sns\n",
        "%matplotlib inline\n",
        "\n",
        "# 儲存模型的工具\n",
        "import pickle\n",
        "\n",
        "print(df.info())"
      ],
      "execution_count": 2,
      "outputs": [
        {
          "output_type": "stream",
          "text": [
            "<class 'pandas.core.frame.DataFrame'>\n",
            "RangeIndex: 891 entries, 0 to 890\n",
            "Data columns (total 12 columns):\n",
            " #   Column       Non-Null Count  Dtype  \n",
            "---  ------       --------------  -----  \n",
            " 0   PassengerId  891 non-null    int64  \n",
            " 1   Survived     891 non-null    int64  \n",
            " 2   Pclass       891 non-null    int64  \n",
            " 3   Name         891 non-null    object \n",
            " 4   Sex          891 non-null    object \n",
            " 5   Age          714 non-null    float64\n",
            " 6   SibSp        891 non-null    int64  \n",
            " 7   Parch        891 non-null    int64  \n",
            " 8   Ticket       891 non-null    object \n",
            " 9   Fare         891 non-null    float64\n",
            " 10  Cabin        204 non-null    object \n",
            " 11  Embarked     889 non-null    object \n",
            "dtypes: float64(2), int64(5), object(5)\n",
            "memory usage: 83.7+ KB\n",
            "None\n"
          ],
          "name": "stdout"
        }
      ]
    },
    {
      "cell_type": "markdown",
      "metadata": {
        "id": "JuvqjIdLjSeB"
      },
      "source": [
        "- **以資料視覺化輔助資料分析並以 markdown 區塊輔助描述圖中資訊**\n",
        "\n",
        "  第一張圖為Sex與Survived的關係\n",
        "  1. 男性比女性多\n",
        "  2. 男性存活率低, &nbsp; 女性則相反\n",
        "\n",
        "  第二張圖為Age與Survived的關係\n",
        "  1. 大部分乘客在15~40歲, 也是大部分的受難者\n",
        "  2. 50歲以上的死亡率大約為50%\n",
        "  3. 10歲以下的存活率較高\n",
        "\n",
        "  第三張圖為Pclass,Age與Survived的關係\n",
        "  1. Pclass1存活率較高\n",
        "  2. Pclass2存活率約為一半且10歲以下都存活\n",
        "  3. Pclass3最多人且大部分都罹難\n",
        "\n",
        "  第四張圖為Sex,Embraked,Pclass與Survived的關係\n",
        "  1. S與Q女性的存活率較高, &nbsp; C男性存活率較高\n",
        "\n",
        "  第五張圖為Sex,Fare,Embraked,Pclass與Survived的關係\n",
        "  1. Fare高的有較高的存活率\n",
        "\n",
        "\n",
        "\n",
        "\n"
      ]
    },
    {
      "cell_type": "code",
      "metadata": {
        "colab": {
          "base_uri": "https://localhost:8080/",
          "height": 1000
        },
        "id": "7D4NlvK3iaTY",
        "outputId": "2eb829b9-d692-465f-ecd9-6ec46a2085ba"
      },
      "source": [
        "g = sns.FacetGrid(df, col='Sex')\n",
        "g.map(plt.hist, 'Survived', bins=20)\n",
        "\n",
        "g = sns.FacetGrid(df, col='Survived')\n",
        "g.map(plt.hist, 'Age', bins=20)\n",
        "\n",
        "grid = sns.FacetGrid(df, col='Survived', row='Pclass', size=2.2, aspect=1.6)\n",
        "grid.map(plt.hist, 'Age', alpha=.5, bins=20)\n",
        "grid.add_legend()\n",
        "\n",
        "grid = sns.FacetGrid(df, row='Embarked', size=2.2, aspect=1.6)\n",
        "grid.map(sns.pointplot, 'Pclass', 'Survived', 'Sex', palette='deep')\n",
        "grid.add_legend()\n",
        "\n",
        "grid = sns.FacetGrid(df, row='Embarked', col='Survived', size=2.2, aspect=1.6)\n",
        "grid.map(sns.barplot, 'Sex', 'Fare', alpha=.5, ci=None)\n",
        "grid.add_legend()"
      ],
      "execution_count": 3,
      "outputs": [
        {
          "output_type": "execute_result",
          "data": {
            "text/plain": [
              "<seaborn.axisgrid.FacetGrid at 0x7f5caf17d2d0>"
            ]
          },
          "metadata": {
            "tags": []
          },
          "execution_count": 3
        },
        {
          "output_type": "display_data",
          "data": {
            "image/png": "[encoded data removed]",
            "text/plain": [
              "<Figure size 432x216 with 2 Axes>"
            ]
          },
          "metadata": {
            "tags": [],
            "needs_background": "light"
          }
        },
        {
          "output_type": "display_data",
          "data": {
            "image/png": "[encoded data removed]",
            "text/plain": [
              "<Figure size 432x216 with 2 Axes>"
            ]
          },
          "metadata": {
            "tags": [],
            "needs_background": "light"
          }
        },
        {
          "output_type": "display_data",
          "data": {
            "image/png": "[encoded data removed]",
            "text/plain": [
              "<Figure size 514.88x475.2 with 6 Axes>"
            ]
          },
          "metadata": {
            "tags": [],
            "needs_background": "light"
          }
        },
        {
          "output_type": "display_data",
          "data": {
            "image/png": "[encoded data removed]",
            "text/plain": [
              "<Figure size 323.94x475.2 with 3 Axes>"
            ]
          },
          "metadata": {
            "tags": [],
            "needs_background": "light"
          }
        },
        {
          "output_type": "display_data",
          "data": {
            "image/png": "[encoded data removed]",
            "text/plain": [
              "<Figure size 514.88x475.2 with 6 Axes>"
            ]
          },
          "metadata": {
            "tags": [],
            "needs_background": "light"
          }
        }
      ]
    },
    {
      "cell_type": "markdown",
      "metadata": {
        "id": "lKaO3mZq1l3t"
      },
      "source": [
        "- **選擇使用 Sex 與 Age 以外的特徵作為輸入並以 markdown 區塊描述方法與理由**\n",
        "\n",
        "  1. 如上述對資料的分析, &nbsp; Pclass,Sex,Age,Fare,Embarked與存活率有相關性, &nbsp; 所以加入訓練資料內\n",
        "\n",
        "  2. 可將SibSp與Parch相加來看乘客是否是自己在船上，與存活率也有關係\n",
        "\n"
      ]
    },
    {
      "cell_type": "code",
      "metadata": {
        "id": "bSrWJWOq1lk4"
      },
      "source": [
        "train_x = df[['Pclass', 'Sex', 'Age', 'SibSp', 'Parch', 'Fare', 'Embarked']]  # 取出訓練資料需要分析的資料欄位\n",
        "train_y = df['Survived']                                    # 取出訓練資料的答案"
      ],
      "execution_count": 4,
      "outputs": []
    },
    {
      "cell_type": "markdown",
      "metadata": {
        "id": "2e7SHTTV63AX"
      },
      "source": [
        "- **處理缺失值並以 markdown 區塊描述方法與理由**\n",
        "  \n",
        "  1. Age整體往左偏, 所以用中位數填補\n",
        "\n",
        "  2. Embarked最多為S, 所以用S填補\n",
        "\n"
      ]
    },
    {
      "cell_type": "code",
      "metadata": {
        "id": "14VnrC1Na6fY"
      },
      "source": [
        "from sklearn.impute import SimpleImputer       # 匯入填補缺失值的工具\n",
        "from sklearn.preprocessing import LabelEncoder # 匯入 Label Encoder\n",
        "\n",
        "imputer = SimpleImputer(strategy='median')     # 創造 imputer 並設定填補策略\n",
        "age = train_x['Age'].to_numpy().reshape(-1, 1)\n",
        "imputer.fit(age)                               # 根據資料學習需要填補的值\n",
        "train_x['Age'] = imputer.transform(age)        # 填補缺失值\n",
        "\n",
        "train_x['Embarked'].fillna(\"S\", inplace=True)"
      ],
      "execution_count": 5,
      "outputs": []
    },
    {
      "cell_type": "markdown",
      "metadata": {
        "id": "WLTENKKk-X-x"
      },
      "source": [
        "- **轉換數值資料並以 markdown 區塊描述方法與理由**\n",
        "\n",
        "  Fare為數值資料且最大與最小值相差許多, *因此使用標準化來轉換資料*"
      ]
    },
    {
      "cell_type": "code",
      "metadata": {
        "id": "7aKqL_x4l5cB",
        "colab": {
          "base_uri": "https://localhost:8080/"
        },
        "outputId": "9352d80b-e190-482b-f03b-9febb54290c2"
      },
      "source": [
        "from sklearn.preprocessing import StandardScaler # 匯入標準化的工具\n",
        "\n",
        "print(\"min:\", train_x['Fare'].min(), \"\\nmax:\", train_x['Fare'].max())\n",
        "fare = train_x['Fare'].to_numpy().reshape(-1, 1)\n",
        "normalizer = StandardScaler()                    # 創造標準化工具\n",
        "normalizer.fit(fare)                           # 根據資料學習平均值與標準差\n",
        "train_x['Fare'] = normalizer.transform(fare)            # 進行標準化"
      ],
      "execution_count": 6,
      "outputs": [
        {
          "output_type": "stream",
          "text": [
            "min: 0.0 \n",
            "max: 512.3292\n"
          ],
          "name": "stdout"
        }
      ]
    },
    {
      "cell_type": "markdown",
      "metadata": {
        "id": "5NiKqt2c9S32"
      },
      "source": [
        "- **轉換類別資料並以 markdown 區塊描述方法與理由**\n",
        "\n",
        "  1. Sex的male, female轉為0和1\n",
        "  2. Embarked的S,C,Q轉為0,1,2"
      ]
    },
    {
      "cell_type": "code",
      "metadata": {
        "id": "WL_zNZNg8m8k"
      },
      "source": [
        "le = LabelEncoder()                            # 創造 Label Encoder\n",
        "le.fit(train_x['Sex'])                         # 給予每個類別一個數值\n",
        "train_x['Sex'] = le.transform(train_x['Sex'])  # 轉換所有類別成為數值\n",
        "\n",
        "le.fit(train_x['Embarked'])                         # 給予每個類別一個數值\n",
        "train_x['Embarked'] = le.transform(train_x['Embarked'])  # 轉換所有類別成為數值"
      ],
      "execution_count": 7,
      "outputs": []
    },
    {
      "cell_type": "markdown",
      "metadata": {
        "id": "2XZeI4GoFC5C"
      },
      "source": [
        "- **使用其他方法進行資料前處理並以 markdown 區塊描述理由**\n",
        "\n",
        "  1. 將Sibsp與Parch相加來得到乘客是否是單獨在船上, 因為沒有伴的乘客有較高的死亡率\n",
        "\n",
        "  2. 將小於16歲的標記出一欄IsMinor, 因為年紀小的死亡率較低\n",
        "\n",
        "  3. 將年紀分為5群, 才不會太分散"
      ]
    },
    {
      "cell_type": "code",
      "metadata": {
        "id": "t0YI4EZLpKpV"
      },
      "source": [
        "train_x['TravelBuds']=train_x[\"SibSp\"]+train_x[\"Parch\"]\n",
        "train_x['TravelAlone']=np.where(train_x['TravelBuds']>0, 0, 1)\n",
        "train_x.drop('SibSp', axis=1, inplace=True)\n",
        "train_x.drop('Parch', axis=1, inplace=True)\n",
        "train_x.drop('TravelBuds', axis=1, inplace=True)\n",
        "\n",
        "train_x['IsMinor']=np.where(train_x['Age']<=16, 1, 0)\n",
        "\n",
        "train_x['AgeBand'] = pd.cut(train_x['Age'], 5)\n",
        "train_x.loc[ train_x['Age'] <= 16, 'Age'] = 0\n",
        "train_x.loc[(train_x['Age'] > 16) & (train_x['Age'] <= 32), 'Age'] = 1\n",
        "train_x.loc[(train_x['Age'] > 32) & (train_x['Age'] <= 48), 'Age'] = 2\n",
        "train_x.loc[(train_x['Age'] > 48) & (train_x['Age'] <= 64), 'Age'] = 3\n",
        "train_x.loc[ train_x['Age'] > 64, 'Age']\n",
        "train_x.drop('AgeBand', axis=1, inplace=True)\n",
        "\n",
        "train_x['Age*Class'] = train_x['Age'] * train_x['Pclass']"
      ],
      "execution_count": 8,
      "outputs": []
    },
    {
      "cell_type": "markdown",
      "metadata": {
        "id": "558ctrPKcTEV"
      },
      "source": [
        "## 模型訓練\n",
        "\n",
        "請在此區塊後使用**一個或多個區塊**進行模型訓練，**需要**包含以下內容：\n",
        "\n",
        "- **選擇模型**\n",
        "    - 設定模型**超參數**\n",
        "    - **控制隨機亂數**\n",
        "- 計算**準確度（Accuracy）**\n",
        "    - 使用 **5-fold cross validation**，輸出**平均準確度**\n",
        "    - 最後再使用**所有**資料進行訓練並輸出**準確度**\n",
        "    - 準確度必須**超越**課堂使用的範例\n",
        "    \n",
        "如果有進行多於一個以上的實驗，**可以保留所有**的實驗結果，但是執行時間將會納入**全部**實驗。"
      ]
    },
    {
      "cell_type": "markdown",
      "metadata": {
        "id": "i1iiVt23MmbK"
      },
      "source": [
        "- **使用 markdown 區塊簡單解釋模型演算法**\n",
        "\n",
        "  DecisionTreeClassifier\n",
        "  使用決策樹來處理分類問題\n",
        "  \n",
        "  有Entropy與Gini impurity兩種方法來分割資料,\n",
        "  最後將資料分門別類\n",
        "\n",
        "- **解釋模型超參數的選擇理由**\n",
        "\n",
        "  1. criterion選擇gini : gini與Entropy兩者的計算方法差不多, 得出的準確率也相差不大, 而Entropy計算時有用到log所以計算時間會較長\n",
        "  2. max_depth=7 : DecisionTree如果沒有一些限制很容易會overfitting, 因此將最大深度設定在7\n",
        "  3. random_state : 讓結果能夠重現\n",
        "\n",
        "- **使用 5-fold cross validation 輸出平均準確度**\n",
        "\n",
        "- **使用所有資料訓練模型並輸出準確度**\n",
        "\n",
        "- **試著讓其中一個實驗模型 overfitting（訓練與驗證準確度差距 >  10% ）**\n",
        "\n",
        "  不限制tree的max_depth就會造成overfitting\n"
      ]
    },
    {
      "cell_type": "code",
      "metadata": {
        "colab": {
          "base_uri": "https://localhost:8080/"
        },
        "id": "Qmpdh1vjcTEV",
        "outputId": "47d3a3e3-de15-4f45-96f7-1c2c408ea056"
      },
      "source": [
        "# 模型訓練\n",
        "import random\n",
        "np.random.seed()\n",
        "random.seed()\n",
        "from sklearn.model_selection import KFold             # 匯入 K 次交叉驗證工具\n",
        "from sklearn.tree import DecisionTreeClassifier       # 匯入決策樹模型\n",
        "from sklearn.metrics import accuracy_score            # 匯入準確度計算工具\n",
        "from sklearn import model_selection\n",
        "from sklearn import tree\n",
        "\n",
        "kf = KFold(n_splits=5,                                # 設定 K 值\n",
        "           random_state=1012,\n",
        "           shuffle=True)\n",
        "kf.get_n_splits(train_x)                              # 給予資料範圍\n",
        "\n",
        "train_acc_list = []                                   # 儲存每次訓練模型的準確度\n",
        "valid_acc_list = []                                   # 儲存每次驗證模型的準確度\n",
        "\n",
        "train_acc_list_of = []                                   # 儲存每次訓練模型的準確度\n",
        "valid_acc_list_of = []\n",
        "\n",
        "model = DecisionTreeClassifier(criterion='gini', max_depth=7, random_state=0)\n",
        "for train_index, valid_index in kf.split(train_x):    # 每個迴圈都會產生不同部份的資料\n",
        "    train_x_split = train_x.iloc[train_index]         # 產生訓練資料\n",
        "    train_y_split = train_y.iloc[train_index]         # 產生訓練資料標籤\n",
        "    valid_x_split = train_x.iloc[valid_index]         # 產生驗證資料\n",
        "    valid_y_split = train_y.iloc[valid_index]         # 產生驗證資料標籤\n",
        "    \n",
        "    \n",
        "    model = DecisionTreeClassifier(criterion='gini', max_depth=7, random_state=0) # 創造決策樹模型\n",
        "    model.fit(train_x_split, train_y_split)           # 訓練決策樹模型    \n",
        "\n",
        "    train_pred_y = model.predict(train_x_split)       # 確認模型是否訓練成功\n",
        "    train_acc = accuracy_score(train_y_split,         # 計算訓練資料準確度\n",
        "                               train_pred_y)\n",
        "    valid_pred_y = model.predict(valid_x_split)       # 驗證模型是否訓練成功\n",
        "    valid_acc = accuracy_score(valid_y_split,         # 計算驗證資料準確度\n",
        "                               valid_pred_y)\n",
        "    \n",
        "    train_acc_list.append(train_acc)\n",
        "    valid_acc_list.append(valid_acc)\n",
        "\n",
        "    model_of = DecisionTreeClassifier(criterion='gini', random_state=0)\n",
        "    model_of.fit(train_x_split, train_y_split)\n",
        "\n",
        "    train_pred_y = model_of.predict(train_x_split)\n",
        "    train_acc = accuracy_score(train_y_split,\n",
        "                               train_pred_y)\n",
        "    valid_pred_y = model_of.predict(valid_x_split)\n",
        "    valid_acc = accuracy_score(valid_y_split,\n",
        "                               valid_pred_y)\n",
        "    \n",
        "    train_acc_list_of.append(train_acc)\n",
        "    valid_acc_list_of.append(valid_acc)\n",
        "print(\"normal:\")\n",
        "print((\n",
        "    'average train accuracy: {}\\n' +\n",
        "    '    min train accuracy: {}\\n' +\n",
        "    '    max train accuracy: {}\\n' +\n",
        "    'average valid accuracy: {}\\n' +\n",
        "    '    min valid accuracy: {}\\n' +\n",
        "    '    max valid accuracy: {}').format(\n",
        "    np.mean(train_acc_list),                          # 輸出平均訓練準確度\n",
        "    np.min(train_acc_list),                           # 輸出最低訓練準確度\n",
        "    np.max(train_acc_list),                           # 輸出最高訓練準確度\n",
        "    np.mean(valid_acc_list),                          # 輸出平均驗證準確度\n",
        "    np.min(valid_acc_list),                           # 輸出最低驗證準確度\n",
        "    np.max(valid_acc_list)                            # 輸出最高驗證準確度\n",
        "))\n",
        "print(\"\\noverfitting:\")\n",
        "print((\n",
        "    'average train accuracy: {}\\n' +\n",
        "    '    min train accuracy: {}\\n' +\n",
        "    '    max train accuracy: {}\\n' +\n",
        "    'average valid accuracy: {}\\n' +\n",
        "    '    min valid accuracy: {}\\n' +\n",
        "    '    max valid accuracy: {}').format(\n",
        "    np.mean(train_acc_list_of),                          # 輸出平均訓練準確度\n",
        "    np.min(train_acc_list_of),                           # 輸出最低訓練準確度\n",
        "    np.max(train_acc_list_of),                           # 輸出最高訓練準確度\n",
        "    np.mean(valid_acc_list_of),                          # 輸出平均驗證準確度\n",
        "    np.min(valid_acc_list_of),                           # 輸出最低驗證準確度\n",
        "    np.max(valid_acc_list_of)                            # 輸出最高驗證準確度\n",
        "))"
      ],
      "execution_count": 9,
      "outputs": [
        {
          "output_type": "stream",
          "text": [
            "normal:\n",
            "average train accuracy: 0.8818770978773027\n",
            "    min train accuracy: 0.8485273492286115\n",
            "    max train accuracy: 0.8934081346423562\n",
            "average valid accuracy: 0.8193522063900571\n",
            "    min valid accuracy: 0.776536312849162\n",
            "    max valid accuracy: 0.8651685393258427\n",
            "\n",
            "overfitting:\n",
            "average train accuracy: 0.9391150700474338\n",
            "    min train accuracy: 0.9284712482468443\n",
            "    max train accuracy: 0.9452247191011236\n",
            "average valid accuracy: 0.804758018956751\n",
            "    min valid accuracy: 0.7653631284916201\n",
            "    max valid accuracy: 0.8314606741573034\n"
          ],
          "name": "stdout"
        }
      ]
    },
    {
      "cell_type": "markdown",
      "metadata": {
        "id": "a3TakqsVMux2"
      },
      "source": [
        "- **使用決策樹以外的模型進行實驗**\n",
        "\n",
        "  \n",
        "- **使用 ensemble 進行實驗**\n",
        "\n",
        "- **準確度超越課堂範例（ 81% ）**\n",
        "\n",
        "  使用RandomForestClassifier"
      ]
    },
    {
      "cell_type": "code",
      "metadata": {
        "colab": {
          "base_uri": "https://localhost:8080/"
        },
        "id": "MHmlV-ZOHbuH",
        "outputId": "db2a3786-7275-4d92-fc1a-622c23822b0d"
      },
      "source": [
        "from sklearn.ensemble import RandomForestClassifier\n",
        "\n",
        "train_acc_list = []                                   # 儲存每次訓練模型的準確度\n",
        "valid_acc_list = []                                   # 儲存每次驗證模型的準確度\n",
        "model = RandomForestClassifier(criterion='entropy', max_depth=6, n_estimators=100, oob_score=True, random_state=0)\n",
        "for train_index, valid_index in kf.split(train_x):    # 每個迴圈都會產生不同部份的資料\n",
        "    train_x_split = train_x.iloc[train_index]         # 產生訓練資料\n",
        "    train_y_split = train_y.iloc[train_index]         # 產生訓練資料標籤\n",
        "    valid_x_split = train_x.iloc[valid_index]         # 產生驗證資料\n",
        "    valid_y_split = train_y.iloc[valid_index]         # 產生驗證資料標籤\n",
        "    \n",
        "    model = RandomForestClassifier(criterion='entropy', max_depth=6, n_estimators=100, oob_score=True, random_state=0)\n",
        "    model.fit(train_x_split, train_y_split)           # 訓練決策樹模型\n",
        "    \n",
        "    train_pred_y = model.predict(train_x_split)       # 確認模型是否訓練成功\n",
        "    train_acc = accuracy_score(train_y_split,         # 計算訓練資料準確度\n",
        "                               train_pred_y)\n",
        "    valid_pred_y = model.predict(valid_x_split)       # 驗證模型是否訓練成功\n",
        "    valid_acc = accuracy_score(valid_y_split,         # 計算驗證資料準確度\n",
        "                               valid_pred_y)\n",
        "    \n",
        "    train_acc_list.append(train_acc)\n",
        "    valid_acc_list.append(valid_acc)\n",
        "\n",
        "print((\n",
        "    'average train accuracy: {}\\n' +\n",
        "    '    min train accuracy: {}\\n' +\n",
        "    '    max train accuracy: {}\\n' +\n",
        "    'average valid accuracy: {}\\n' +\n",
        "    '    min valid accuracy: {}\\n' +\n",
        "    '    max valid accuracy: {}').format(\n",
        "    np.mean(train_acc_list),                          # 輸出平均訓練準確度\n",
        "    np.min(train_acc_list),                           # 輸出最低訓練準確度\n",
        "    np.max(train_acc_list),                           # 輸出最高訓練準確度\n",
        "    np.mean(valid_acc_list),                          # 輸出平均驗證準確度\n",
        "    np.min(valid_acc_list),                           # 輸出最低驗證準確度\n",
        "    np.max(valid_acc_list)                            # 輸出最高驗證準確度\n",
        "))"
      ],
      "execution_count": 10,
      "outputs": [
        {
          "output_type": "stream",
          "text": [
            "average train accuracy: 0.8633586523157414\n",
            "    min train accuracy: 0.8513323983169705\n",
            "    max train accuracy: 0.8735955056179775\n",
            "average valid accuracy: 0.8215742891218378\n",
            "    min valid accuracy: 0.7988826815642458\n",
            "    max valid accuracy: 0.8539325842696629\n"
          ],
          "name": "stdout"
        }
      ]
    },
    {
      "cell_type": "markdown",
      "metadata": {
        "id": "T7_2BJ4kOHE_"
      },
      "source": [
        "- **使用多個不同模型進行實驗**\n",
        "\n",
        "  SVC與AdaBoostClassifier\n",
        "\n",
        "- **試著讓其中一個實驗模型 underfitting（訓練準確度約  50%±10% ）**\n",
        "\n",
        "  svc的max_iter設為20會underfitting"
      ]
    },
    {
      "cell_type": "code",
      "metadata": {
        "colab": {
          "base_uri": "https://localhost:8080/"
        },
        "id": "BXBMO3_YN-KV",
        "outputId": "75e7a9b0-da54-4679-f0d5-f06de697cf8c"
      },
      "source": [
        "from sklearn import svm, ensemble\n",
        "\n",
        "train_acc_list = []                                   # 儲存每次訓練模型的準確度\n",
        "valid_acc_list = []                                   # 儲存每次驗證模型的準確度\n",
        "\n",
        "for train_index, valid_index in kf.split(train_x):    # 每個迴圈都會產生不同部份的資料\n",
        "    train_x_split = train_x.iloc[train_index]         # 產生訓練資料\n",
        "    train_y_split = train_y.iloc[train_index]         # 產生訓練資料標籤\n",
        "    valid_x_split = train_x.iloc[valid_index]         # 產生驗證資料\n",
        "    valid_y_split = train_y.iloc[valid_index]         # 產生驗證資料標籤\n",
        "    \n",
        "    model = svm.SVC(C=2, gamma=.1, decision_function_shape='ovo', max_iter=20,  probability=True, random_state=0)\n",
        "    model.fit(train_x_split, train_y_split)           # 訓練決策樹模型\n",
        "    \n",
        "    train_pred_y = model.predict(train_x_split)       # 確認模型是否訓練成功\n",
        "    train_acc = accuracy_score(train_y_split,         # 計算訓練資料準確度\n",
        "                               train_pred_y)\n",
        "    valid_pred_y = model.predict(valid_x_split)       # 驗證模型是否訓練成功\n",
        "    valid_acc = accuracy_score(valid_y_split,         # 計算驗證資料準確度\n",
        "                               valid_pred_y)\n",
        "    \n",
        "    train_acc_list.append(train_acc)\n",
        "    valid_acc_list.append(valid_acc)\n",
        "print(\"SVC :\")\n",
        "print((\n",
        "    'average train accuracy: {}\\n' +\n",
        "    '    min train accuracy: {}\\n' +\n",
        "    '    max train accuracy: {}\\n' +\n",
        "    'average valid accuracy: {}\\n' +\n",
        "    '    min valid accuracy: {}\\n' +\n",
        "    '    max valid accuracy: {}').format(\n",
        "    np.mean(train_acc_list),                          # 輸出平均訓練準確度\n",
        "    np.min(train_acc_list),                           # 輸出最低訓練準確度\n",
        "    np.max(train_acc_list),                           # 輸出最高訓練準確度\n",
        "    np.mean(valid_acc_list),                          # 輸出平均驗證準確度\n",
        "    np.min(valid_acc_list),                           # 輸出最低驗證準確度\n",
        "    np.max(valid_acc_list)                            # 輸出最高驗證準確度\n",
        "))\n",
        "\n",
        "train_acc_list = []                                   # 儲存每次訓練模型的準確度\n",
        "valid_acc_list = []                                   # 儲存每次驗證模型的準確度\n",
        "from sklearn.neighbors import KNeighborsClassifier \n",
        "for train_index, valid_index in kf.split(train_x):    # 每個迴圈都會產生不同部份的資料\n",
        "    train_x_split = train_x.iloc[train_index]         # 產生訓練資料\n",
        "    train_y_split = train_y.iloc[train_index]         # 產生訓練資料標籤\n",
        "    valid_x_split = train_x.iloc[valid_index]         # 產生驗證資料\n",
        "    valid_y_split = train_y.iloc[valid_index]         # 產生驗證資料標籤\n",
        "    \n",
        "    model = ensemble.AdaBoostClassifier(learning_rate=0.1, n_estimators=300, random_state=0)\n",
        "    model.fit(train_x_split, train_y_split)           # 訓練決策樹模型\n",
        "    \n",
        "    train_pred_y = model.predict(train_x_split)       # 確認模型是否訓練成功\n",
        "    train_acc = accuracy_score(train_y_split,         # 計算訓練資料準確度\n",
        "                               train_pred_y)\n",
        "    valid_pred_y = model.predict(valid_x_split)       # 驗證模型是否訓練成功\n",
        "    valid_acc = accuracy_score(valid_y_split,         # 計算驗證資料準確度\n",
        "                               valid_pred_y)\n",
        "    \n",
        "    train_acc_list.append(train_acc)\n",
        "    valid_acc_list.append(valid_acc)\n",
        "print(\"\\nAdaBoostClassifier :\")\n",
        "print((\n",
        "    'average train accuracy: {}\\n' +\n",
        "    '    min train accuracy: {}\\n' +\n",
        "    '    max train accuracy: {}\\n' +\n",
        "    'average valid accuracy: {}\\n' +\n",
        "    '    min valid accuracy: {}\\n' +\n",
        "    '    max valid accuracy: {}').format(\n",
        "    np.mean(train_acc_list),                          # 輸出平均訓練準確度\n",
        "    np.min(train_acc_list),                           # 輸出最低訓練準確度\n",
        "    np.max(train_acc_list),                           # 輸出最高訓練準確度\n",
        "    np.mean(valid_acc_list),                          # 輸出平均驗證準確度\n",
        "    np.min(valid_acc_list),                           # 輸出最低驗證準確度\n",
        "    np.max(valid_acc_list)                            # 輸出最高驗證準確度\n",
        "))"
      ],
      "execution_count": 11,
      "outputs": [
        {
          "output_type": "stream",
          "text": [
            "SVC :\n",
            "average train accuracy: 0.4913520179018863\n",
            "    min train accuracy: 0.391304347826087\n",
            "    max train accuracy: 0.6699438202247191\n",
            "average valid accuracy: 0.4510325779925931\n",
            "    min valid accuracy: 0.38202247191011235\n",
            "    max valid accuracy: 0.5810055865921788\n",
            "\n",
            "AdaBoostClassifier :\n",
            "average train accuracy: 0.8052768016136911\n",
            "    min train accuracy: 0.7966339410939691\n",
            "    max train accuracy: 0.8120617110799438\n",
            "average valid accuracy: 0.7957441466323519\n",
            "    min valid accuracy: 0.7528089887640449\n",
            "    max valid accuracy: 0.8314606741573034\n"
          ],
          "name": "stdout"
        }
      ]
    },
    {
      "cell_type": "markdown",
      "metadata": {
        "id": "l7ET8UUOcTEX"
      },
      "source": [
        "## 加分題\n",
        "\n",
        "請將訓練後的模型套用至 [Kaggle Titanic](https://www.kaggle.com/c/titanic/overview) `test.csv` 上，並上傳至 Kaggle 進行評分，**截圖**後**嵌入**至 `markdown` 區塊中。"
      ]
    },
    {
      "cell_type": "code",
      "metadata": {
        "id": "fUcdewGgK0he"
      },
      "source": [
        "df_test = pd.read_csv('test.csv')\n",
        "test = df_test[['Pclass', 'Sex', 'Age', 'SibSp', 'Parch', 'Fare', 'Embarked']]\n",
        "\n",
        "imputer = SimpleImputer(strategy='median')\n",
        "age = test['Age'].to_numpy().reshape(-1, 1)\n",
        "imputer.fit(age)\n",
        "test['Age'] = imputer.transform(age)\n",
        "\n",
        "imputer = SimpleImputer(strategy='median')\n",
        "Fare = test['Fare'].to_numpy().reshape(-1, 1)\n",
        "imputer.fit(Fare)\n",
        "test['Fare'] = imputer.transform(Fare)\n",
        "\n",
        "test['Embarked'].fillna(\"S\", inplace=True)\n",
        "\n",
        "fare = test['Fare'].to_numpy().reshape(-1, 1)\n",
        "normalizer = StandardScaler()\n",
        "normalizer.fit(fare)\n",
        "test['Fare'] = normalizer.transform(fare)\n",
        "\n",
        "le = LabelEncoder()\n",
        "le.fit(test['Sex'])\n",
        "test['Sex'] = le.transform(test['Sex'])\n",
        "\n",
        "le.fit(test['Embarked'])\n",
        "test['Embarked'] = le.transform(test['Embarked'])\n",
        "\n",
        "test['TravelBuds']=test[\"SibSp\"]+test[\"Parch\"]\n",
        "test['TravelAlone']=np.where(test['TravelBuds']>0, 0, 1)\n",
        "test.drop('SibSp', axis=1, inplace=True)\n",
        "test.drop('Parch', axis=1, inplace=True)\n",
        "test.drop('TravelBuds', axis=1, inplace=True)\n",
        "\n",
        "test['IsMinor']=np.where(test['Age']<=16, 1, 0)\n",
        "\n",
        "test['AgeBand'] = pd.cut(test['Age'], 5)\n",
        "test.loc[ test['Age'] <= 16, 'Age'] = 0\n",
        "test.loc[(test['Age'] > 16) & (test['Age'] <= 32), 'Age'] = 1\n",
        "test.loc[(test['Age'] > 32) & (test['Age'] <= 48), 'Age'] = 2\n",
        "test.loc[(test['Age'] > 48) & (test['Age'] <= 64), 'Age'] = 3\n",
        "test.loc[ test['Age'] > 64, 'Age']\n",
        "test.drop('AgeBand', axis=1, inplace=True)\n",
        "\n",
        "test['Age*Class'] = test['Age'] * test['Pclass']\n",
        "\n",
        "\n",
        "pre = model.predict(test)\n",
        "submission = pd.DataFrame({\n",
        "       \"PassengerId\": df_test[\"PassengerId\"],\n",
        "       \"Survived\": pre\n",
        "        })\n",
        "submission.to_csv('titanic_predict.csv', index=False)"
      ],
      "execution_count": 12,
      "outputs": []
    },
    {
      "cell_type": "markdown",
      "metadata": {
        "id": "XisFl70N3OgH"
      },
      "source": [
        "![2.PNG](data:image/png;base64,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)\n",
        "\n",
        "![1.PNG](data:image/png;base64,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)"
      ]
    },
    {
      "cell_type": "code",
      "metadata": {
        "id": "sJkrRKzYcTEX",
        "colab": {
          "base_uri": "https://localhost:8080/"
        },
        "outputId": "a1158d89-26ab-4071-8967-7b0e5471451e"
      },
      "source": [
        "# 請勿更動此區塊程式碼\n",
        "\n",
        "EXECUTION_END_TIME = time.time() # 計算執行時間\n",
        "print('total execution time: {}'.format(EXECUTION_END_TIME - EXECUTION_START_TIME))"
      ],
      "execution_count": 13,
      "outputs": [
        {
          "output_type": "stream",
          "text": [
            "total execution time: 11.983925342559814\n"
          ],
          "name": "stdout"
        }
      ]
    }
  ]
}